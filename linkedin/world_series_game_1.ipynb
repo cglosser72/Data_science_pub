{
 "cells": [
  {
   "cell_type": "code",
   "execution_count": 1,
   "id": "4c3be8c4-df15-4549-a7d2-21aa13b08db8",
   "metadata": {
    "tags": []
   },
   "outputs": [],
   "source": [
    "import numpy as np\n",
    "import scipy.stats as stats\n",
    "random_float = np.random.rand()\n"
   ]
  },
  {
   "cell_type": "markdown",
   "id": "b0652c08-e709-4781-9f9c-7a21735cc86e",
   "metadata": {},
   "source": [
    "In game factoid: “63% of game one winners have gone on to win the World Series”"
   ]
  },
  {
   "cell_type": "markdown",
   "id": "b1bfa9df-d82d-4aef-a00c-910c3fe85c05",
   "metadata": {},
   "source": [
    "###  Monte Carlo:"
   ]
  },
  {
   "cell_type": "markdown",
   "id": "1d1585b6-701f-4821-9d05-f18d44bfc25a",
   "metadata": {},
   "source": [
    "First, let's brute force this using a Monte Carlo. We first build a function that calculates the outcome of a series, assuming that a team has won the first game.  It takes a win probablity as its argument (which we are presuming to be equal to 50% as our null hypothesis)"
   ]
  },
  {
   "cell_type": "code",
   "execution_count": 2,
   "id": "68044d14-4544-4f41-9642-71aef6b822c9",
   "metadata": {
    "tags": []
   },
   "outputs": [
    {
     "data": {
      "text/plain": [
       "0"
      ]
     },
     "execution_count": 2,
     "metadata": {},
     "output_type": "execute_result"
    }
   ],
   "source": [
    "def series_outcome(win_prob = 0.5):\n",
    "    win_prob = 0.5\n",
    "    games_won=0\n",
    "    for i in range(0,6):\n",
    "        random_float = np.random.rand()\n",
    "        if random_float>win_prob:\n",
    "            games_won=games_won+1\n",
    "    outcome = 0\n",
    "    if games_won >= 3:\n",
    "        outcome =1\n",
    "    return(outcome)\n",
    "series_outcome()"
   ]
  },
  {
   "cell_type": "markdown",
   "id": "96bbb3e1-edb3-4713-80b5-acb08b4cb6ce",
   "metadata": {},
   "source": [
    "This next function calculates the series win percentage based on sample size.  We have set the default to 119 since there have been 119 World Series.  This includes all Series in the modern \"2-3-2\" format.  Since the team in question has won 1 game already, the must win 3 of the remaining 6 contests to win the series."
   ]
  },
  {
   "cell_type": "code",
   "execution_count": 3,
   "id": "ed8de670-7ad0-4ba1-a872-e31c994aa1e3",
   "metadata": {
    "tags": []
   },
   "outputs": [
    {
     "data": {
      "text/plain": [
       "0.5966386554621849"
      ]
     },
     "execution_count": 3,
     "metadata": {},
     "output_type": "execute_result"
    }
   ],
   "source": [
    "def series_sample(num_series=119):\n",
    "    series_list = []\n",
    "    for i in range(num_series):\n",
    "        series_list.append(series_outcome())\n",
    "    return np.mean(series_list)\n",
    "series_sample()\n",
    "        "
   ]
  },
  {
   "cell_type": "markdown",
   "id": "a21e263d-8d78-435e-9b11-1aae4a2c573c",
   "metadata": {},
   "source": [
    "Finally we run this experiment a million times and calculate the average of the sucesses.  This probability will be our mean.  The standard deviation of this is the standard deviation of the mean (for our sample size of 119)"
   ]
  },
  {
   "cell_type": "code",
   "execution_count": 4,
   "id": "1559bd92-c566-490b-a2c3-88b88932fe7b",
   "metadata": {
    "tags": []
   },
   "outputs": [
    {
     "data": {
      "text/plain": [
       "(0.656246050420168, 0.04352605259547632)"
      ]
     },
     "execution_count": 4,
     "metadata": {},
     "output_type": "execute_result"
    }
   ],
   "source": [
    "num_trials = 50000\n",
    "trial_probs = []\n",
    "for i in range(num_trials):\n",
    "    trial_probs.append(series_sample())\n",
    "trial_mean, trial_stdev = np.mean(trial_probs), np.std(trial_probs)\n",
    "trial_mean, trial_stdev"
   ]
  },
  {
   "cell_type": "markdown",
   "id": "1fe4bcaa-bc18-44b0-a873-8108baa9ebb1",
   "metadata": {},
   "source": [
    "Our brute force method of calculating tells us that game one winners have performed *worse* than expected."
   ]
  },
  {
   "cell_type": "markdown",
   "id": "748a0286-243f-4f0b-841c-557ea6c0a701",
   "metadata": {},
   "source": [
    "###  Theory"
   ]
  },
  {
   "cell_type": "markdown",
   "id": "46ef220c-a587-4232-978d-3d4767ba78d6",
   "metadata": {},
   "source": [
    "If the teams in question are equally matched, we expect the odds of either team winning is essentially $p=50$%.  This will be our null hypothesis.  Since our trial consists of counting outcomes of $n=6$ contest (since one game has been played) random outcomes, and we need to calculate the net probability that a team wins $k=3$ or more games, we need to subtract the probality of winning 0,1, or 2 games from 1.  Since $p=0.5$ for our case this is equivalent to calculating the cdf from 0 to 3:"
   ]
  },
  {
   "cell_type": "code",
   "execution_count": 5,
   "id": "d9e14676-4392-4ba1-9a1f-3ba087605ac1",
   "metadata": {
    "tags": []
   },
   "outputs": [
    {
     "data": {
      "text/plain": [
       "1.0"
      ]
     },
     "execution_count": 5,
     "metadata": {},
     "output_type": "execute_result"
    }
   ],
   "source": [
    "stats.binom.cdf(2,  6,.5)+stats.binom.cdf(3,  6,.5)"
   ]
  },
  {
   "cell_type": "markdown",
   "id": "54a4aeec-38c0-4773-8d22-a725420fd520",
   "metadata": {},
   "source": [
    "So what is the theortical probability that the first game winner wins the World Series?  How does that compare to the (measured/sampled) probability (which was 63%) that was neationed during the game?  "
   ]
  },
  {
   "cell_type": "code",
   "execution_count": 6,
   "id": "3d518754-f565-445e-b28b-0a620b452417",
   "metadata": {
    "tags": []
   },
   "outputs": [
    {
     "data": {
      "text/plain": [
       "(0.65625, 0.04353940912620225, 0.6029020725548295)"
      ]
     },
     "execution_count": 6,
     "metadata": {},
     "output_type": "execute_result"
    }
   ],
   "source": [
    "theo_trial_mean = 1-stats.binom.cdf(2,  6,.5)\n",
    "theo_trial_stdev = np.sqrt(theo_trial_mean *(1-theo_trial_mean))/np.sqrt(119)\n",
    "z = np.abs((0.63-theo_trial_mean)/theo_trial_stdev)\n",
    "theo_trial_mean, theo_trial_stdev, z"
   ]
  },
  {
   "cell_type": "markdown",
   "id": "cf9649df-0ed9-423d-908d-3ba333d5bd01",
   "metadata": {
    "tags": []
   },
   "source": [
    "Our takeaways are that the first game winners actually *underperform* slightly (by $\\approx 0.6 \\sigma_\\mathrm{m}$).  Since we have the actual theoretical distribution with the exact parameters here, we use standard normal statistics to calculate one minus the probability that the null hypothesis is true:"
   ]
  },
  {
   "cell_type": "code",
   "execution_count": 7,
   "id": "2708ccd2-08d9-4585-bdf5-76ef04b06ff0",
   "metadata": {
    "tags": []
   },
   "outputs": [
    {
     "data": {
      "text/plain": [
       "0.5465738371408011"
      ]
     },
     "execution_count": 7,
     "metadata": {},
     "output_type": "execute_result"
    }
   ],
   "source": [
    "from scipy.stats import norm\n",
    "1-norm.cdf(z)+norm.cdf(-z)"
   ]
  },
  {
   "cell_type": "markdown",
   "id": "fb6ce7f6-aeca-42c4-aec0-3a955ed3885c",
   "metadata": {},
   "source": [
    "So, 54.7% of the time, a fluctuation like this will occur during random sampling.  It may be indicative of sometime causal (such as adjustments that players, coaches, and other team staff make after the game), but certainly nothing conclusive."
   ]
  }
 ],
 "metadata": {
  "kernelspec": {
   "display_name": "Python 3 (ipykernel)",
   "language": "python",
   "name": "python3"
  },
  "language_info": {
   "codemirror_mode": {
    "name": "ipython",
    "version": 3
   },
   "file_extension": ".py",
   "mimetype": "text/x-python",
   "name": "python",
   "nbconvert_exporter": "python",
   "pygments_lexer": "ipython3",
   "version": "3.11.5"
  }
 },
 "nbformat": 4,
 "nbformat_minor": 5
}
